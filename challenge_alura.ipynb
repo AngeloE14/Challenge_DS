{
 "cells": [
  {
   "cell_type": "markdown",
   "id": "e9f75dbf",
   "metadata": {},
   "source": [
    "# Análisis de ventas por tienda\n",
    "Este cuaderno realiza un análisis de los datos de ventas de cuatro tiendas, mostrando métricas clave y visualizaciones."
   ]
  },
  {
   "cell_type": "code",
   "execution_count": null,
   "id": "77aeb7a5",
   "metadata": {},
   "outputs": [],
   "source": [
    "import pandas as pd\n",
    "import matplotlib.pyplot as plt\n",
    "\n",
    "# Cargar datos desde URLs de GitHub\n",
    "# Las URLs de las tiendas contienen datos de ventas, categorías y reseñas\n",
    "urls = [\n",
    "    'https://raw.githubusercontent.com/alura-es-cursos/challenge1-data-science-latam/refs/heads/main/base-de-datos-challenge1-latam/tienda_1%20.csv',\n",
    "    'https://raw.githubusercontent.com/alura-es-cursos/challenge1-data-science-latam/refs/heads/main/base-de-datos-challenge1-latam/tienda_2.csv',\n",
    "    'https://raw.githubusercontent.com/alura-es-cursos/challenge1-data-science-latam/refs/heads/main/base-de-datos-challenge1-latam/tienda_3.csv',\n",
    "    'https://raw.githubusercontent.com/alura-es-cursos/challenge1-data-science-latam/refs/heads/main/base-de-datos-challenge1-latam/tienda_4.csv'\n",
    "]\n",
    "\n",
    "# Leer cada tienda\n",
    "tiendas = [pd.read_csv(url) for url in urls]\n",
    "\n",
    "# Función para extraer métricas\n",
    "def extraer_metricas(df):\n",
    "    # Normalizar nombres de columnas para evitar errores por mayúsculas/minúsculas o espacios\n",
    "    df = df.rename(columns=lambda x: x.strip().lower().replace(' ', '_'))\n",
    "    ingresos = df['precio'].sum() if 'precio' in df.columns else None\n",
    "    categoria_mas_vendida = df['categoría_del_producto'].mode()[0] if 'categoría_del_producto' in df.columns and not df['categoría_del_producto'].empty else None\n",
    "    producto_mas_vendido = df['producto'].mode()[0] if 'producto' in df.columns and not df['producto'].empty else None\n",
    "    promedio_resenas = df['calificación'].mean() if 'calificación' in df.columns and not df['calificación'].empty else None\n",
    "    return {\n",
    "        'Ingresos totales': ingresos,\n",
    "        'Categoría más vendida': categoria_mas_vendida,\n",
    "        'Producto más vendido': producto_mas_vendido,\n",
    "        'Promedio reseñas': round(promedio_resenas, 2) if promedio_resenas is not None else None\n",
    "    }\n",
    "\n",
    "# Extraer métricas para cada tienda\n",
    "resultados = {f'Tienda {i}': extraer_metricas(tienda) for i, tienda in enumerate(tiendas, start=1)}\n",
    "\n",
    "df_resultados = pd.DataFrame(resultados).T\n",
    "df_resultados"
   ]
  },
  {
   "cell_type": "markdown",
   "id": "e0df30b7",
   "metadata": {},
   "source": [
    "## Visualización: Ingresos por tienda"
   ]
  },
  {
   "cell_type": "code",
   "execution_count": null,
   "id": "f1c179b4",
   "metadata": {},
   "outputs": [],
   "source": [
    "plt.figure(figsize=(8, 5))\n",
    "ax1 = df_resultados['Ingresos totales'].astype(float).plot(kind='bar', color='mediumseagreen')\n",
    "plt.title('Ingresos por tienda')\n",
    "plt.ylabel('Ingresos (USD)')\n",
    "plt.xticks(rotation=0)\n",
    "plt.grid(axis='y', linestyle='--', alpha=0.7)\n",
    "plt.tight_layout()\n",
    "for i, v in enumerate(df_resultados['Ingresos totales'].astype(float)):\n",
    "    ax1.text(i, v + max(df_resultados['Ingresos totales'].astype(float)) * 0.01, f'${{v:,.0f}}', ha='center', va='bottom', fontsize=9)\n",
    "plt.show()"
   ]
  },
  {
   "cell_type": "markdown",
   "id": "bec5ec2a",
   "metadata": {},
   "source": [
    "## Visualización: Categoría más vendida por tienda"
   ]
  },
  {
   "cell_type": "code",
   "execution_count": null,
   "id": "104987c9",
   "metadata": {},
   "outputs": [],
   "source": [
    "categorias = df_resultados['Categoría más vendida'].value_counts()\n",
    "plt.figure(figsize=(6, 6))\n",
    "plt.pie(categorias, labels=categorias.index, autopct=lambda p: f'{p:.1f}%\\n({int(p*sum(categorias)/100)})', startangle=140, colors=plt.cm.Set3.colors)\n",
    "plt.title('Categoría más vendida (por tienda)')\n",
    "plt.tight_layout()\n",
    "plt.show()"
   ]
  },
  {
   "cell_type": "markdown",
   "id": "ed4c4771",
   "metadata": {},
   "source": [
    "## Visualización: Promedio de reseñas por tienda"
   ]
  },
  {
   "cell_type": "code",
   "execution_count": null,
   "id": "d4e136bd",
   "metadata": {},
   "outputs": [],
   "source": [
    "plt.figure(figsize=(8, 5))\n",
    "for tienda, fila in df_resultados.iterrows():\n",
    "    plt.scatter(float(fila['Promedio reseñas']), 1, label=tienda, s=120, edgecolor='k')\n",
    "plt.xlabel('Promedio de reseñas')\n",
    "plt.yticks([])\n",
    "plt.title('Promedio de reseñas por tienda')\n",
    "plt.grid(True, linestyle='--', alpha=0.7)\n",
    "plt.legend()\n",
    "plt.tight_layout()\n",
    "plt.show()"
   ]
  }
 ],
 "metadata": {
  "language_info": {
   "name": "python"
  }
 },
 "nbformat": 4,
 "nbformat_minor": 5
}
